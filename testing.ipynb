{
 "cells": [
  {
   "cell_type": "code",
   "execution_count": 5,
   "metadata": {
    "collapsed": false
   },
   "outputs": [],
   "source": [
    "import time\n",
    "import numpy as np\n",
    "import SimulationObject as SO\n",
    "import matplotlib.pyplot as plt\n",
    "%matplotlib inline\n",
    "import matplotlib.animation as animation\n",
    "\n",
    "import visualizations as v"
   ]
  },
  {
   "cell_type": "code",
   "execution_count": 8,
   "metadata": {
    "collapsed": false
   },
   "outputs": [],
   "source": [
    "parameter_dict = {'initial_flocks':[[[1.2, 3.3], 1., 160],\n",
    "                                    [[3.3, 4], 2, 100], \n",
    "                                   [[7.3, 8], 5, 300]],\n",
    "                    'num_points':400, \n",
    "                    'box_size':10, \n",
    "                    'w_amp':0.25, \n",
    "                    'speed':0.5, \n",
    "                    'C':0.250, \n",
    "                    'nu': 1.,\n",
    "                    'max_dist': 0.5}\n",
    "sim = SO.SimulationObject(parameter_dict)"
   ]
  },
  {
   "cell_type": "code",
   "execution_count": 9,
   "metadata": {
    "collapsed": false
   },
   "outputs": [
    {
     "name": "stdout",
     "output_type": "stream",
     "text": [
      "0.154673923969\n"
     ]
    }
   ],
   "source": [
    "sf = './'\n",
    "\n",
    "delta_t = 0.04\n",
    "total_time = 20\n",
    "\n",
    "\n",
    "steps = total_time/delta_t\n",
    "t = np.linspace(0,total_time, steps)\n",
    "\n",
    "st = time.time()\n",
    "X = []\n",
    "V = []\n",
    "for i in xrange(len(t)-1):\n",
    "    ti = t[i]\n",
    "    ti1 = t[i+1]\n",
    "    sim.run_step(ti, ti1)\n",
    "    X.append(sim.current_points)\n",
    "    V.append(sim.current_v)\n",
    "    \n",
    "    if i==len(t)-2:\n",
    "        et = time.time()\n",
    "        \n",
    "print (et-st)/len(t)"
   ]
  },
  {
   "cell_type": "code",
   "execution_count": 10,
   "metadata": {
    "collapsed": false
   },
   "outputs": [
    {
     "data": {
      "image/png": "[encoded data removed]",
      "text/plain": [
       "<matplotlib.figure.Figure at 0x10f370290>"
      ]
     },
     "metadata": {},
     "output_type": "display_data"
    }
   ],
   "source": [
    "#make movie\n",
    "\n",
    "writer = v.initialize_movie_writer()\n",
    "data = np.array([X,V,t])\n",
    "v.write_movie([X,V,t, sim.box_size], writer, movie_path_and_name = 'test.mp4')"
   ]
  },
  {
   "cell_type": "code",
   "execution_count": null,
   "metadata": {
    "collapsed": false
   },
   "outputs": [],
   "source": [
    "data[2]"
   ]
  },
  {
   "cell_type": "code",
   "execution_count": null,
   "metadata": {
    "collapsed": true
   },
   "outputs": [],
   "source": []
  }
 ],
 "metadata": {
  "anaconda-cloud": {},
  "kernelspec": {
   "display_name": "Python [default]",
   "language": "python",
   "name": "python2"
  },
  "language_info": {
   "codemirror_mode": {
    "name": "ipython",
    "version": 2
   },
   "file_extension": ".py",
   "mimetype": "text/x-python",
   "name": "python",
   "nbconvert_exporter": "python",
   "pygments_lexer": "ipython2",
   "version": "2.7.12"
  }
 },
 "nbformat": 4,
 "nbformat_minor": 1
}
